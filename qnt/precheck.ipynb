{
 "cells": [
  {
   "cell_type": "markdown",
   "source": [
    "# Precheck\n",
    "\n",
    "With this template, you can find errors in your strategy before submitting.\n",
    "\n",
    "1) Click menu \"Kernel\" -> \"Restart Kernel and Run All Cells…\"\n",
    "\n",
    "2) Compare the strategy statistics with the results in strategy.ipynb"
   ],
   "metadata": {
    "collapsed": false
   }
  },
  {
   "cell_type": "code",
   "execution_count": null,
   "outputs": [],
   "source": [
    "from qnt.precheck import *\n",
    "\n",
    "data_type = 'stocks_nasdaq100'  # 'futures', 'stocks', 'futures', 'cryptofutures'\n",
    "\n",
    "run_init()\n",
    "# Runs your strategy multiple times cutting the data tail.\n",
    "# It is similar to the step-by-step calculation.\n",
    "evaluate_passes(passes=3, data_type=data_type)\n",
    "weights = assemble_output()"
   ],
   "metadata": {
    "collapsed": false
   }
  },
  {
   "cell_type": "code",
   "execution_count": null,
   "outputs": [],
   "source": [
    "# run this code for your strategy in strategy.ipnb and compare the results\n",
    "import qnt.data as qndata\n",
    "import qnt.stats as qns\n",
    "import qnt.graph as qngraph\n",
    "\n",
    "data = qndata.stocks.load_ndx_data(min_date=\"2006-01-01\")\n",
    "stats = qns.calc_stat(data, weights.sel(time=slice(\"2006-01-01\", None)))\n",
    "display(stats.to_pandas().tail())\n",
    "\n",
    "performance = stats.to_pandas()[\"equity\"]\n",
    "qngraph.make_plot_filled(performance.index, performance, name=\"PnL (Equity)\", type=\"log\")"
   ],
   "metadata": {
    "collapsed": false
   }
  },
  {
   "cell_type": "markdown",
   "source": [
    "# Common mistakes\n",
    "\n",
    "Aggregate functions can bring knowledge from the future to the past. You can subtract the average or maximum value from each point in the time series. The maximum value may be in 2021, but how is this known from 2015?\n",
    "\n",
    "```python\n",
    "close = data.sel(field=\"close\")\n",
    "\n",
    "weights = close - close.max()\n",
    "weights = close - close.min()\n",
    "weights = close - close.std()\n",
    "weights = close - close.sum()\n",
    "```\n",
    "\n",
    "Use future knowledge in the past\n",
    "\n",
    "```python\n",
    "weights = close.shift(time=-1)\n",
    "```\n",
    "\n",
    "Advance/Decline Line and Advance/Decline Ratio\n",
    "\n",
    "```python\n",
    "# no correct\n",
    "close = data.sel(field=\"close\")\n",
    "weights = qnta.ad_line(close) * 1.0\n",
    "weights = qnta.ad_ratio(close) * 1.0\n",
    "\n",
    "# correct code\n",
    "close = data.sel(field=\"close\") * data.sel(field=\"is_liquid\")\n",
    "weights = qnta.ad_line(close) * 1.0\n",
    "weights = qnta.ad_ratio(close) * 1.0\n",
    "\n",
    "```\n",
    "\n",
    "Standardization in price processing brings knowledge from the future to the past.\n",
    "\n",
    "```python\n",
    "def get_preprocessing(prices):\n",
    "   from sklearn.preprocessing import StandardScaler\n",
    "   scaler = StandardScaler()\n",
    "\n",
    "   prices_pandas = prices.to_pandas()\n",
    "   assets = data.coords[\"asset\"].values\n",
    "   for asset in assets:\n",
    "       prices_pandas[asset] = scaler.fit_transform(prices_pandas[asset].values.reshape(-1, 1))\n",
    "   return prices_pandas\n",
    "\n",
    "prices = data.sel(field=\"close\").fillna(0) * 1.0  # fill NaN\n",
    "prices_standard_scaler = get_preprocessing(prices)\n",
    "```\n",
    "\n",
    "Quantile\n",
    "\n",
    "```python\n",
    "weights = (close < close.quantile(0.30, dim='asset'))*1\n",
    "```\n",
    "\n",
    "# How this template works\n",
    "\n",
    "Runs your strategy multiple times cutting the data tail. It is similar to the step-by-step calculation.\n",
    "\n",
    "By default, it runs 3 passes. It is enough to catch most errors. If you want to get more relevant results, you need to increase the number of passes. When you submit your strategy, the system runs about 1000 passes, which requires a very long time.\n",
    "\n",
    "Also, this step performs some intermediate checks of the outputs.\n",
    "\n",
    "When passes finish, you can find results in the folder `precheck_results`.\n",
    "\n",
    "```python\n",
    "\n",
    "evaluate_passes(passes=3, data_type=data_type)\n",
    "\n",
    "# you can also set the the specific dates:\n",
    "# evaluate_passes(dates=['2016-09-30', '2018-07-13', '2020-04-23'])\n",
    "```\n",
    "\n",
    "Assembles the output from the outputs calculated in the previous step.\n",
    "\n",
    "```python\n",
    "weights = assemble_output()\n",
    "```\n",
    "\n",
    "You can use a function to check the result\n",
    "\n",
    "```python\n",
    "check_output(weights, data_type=data_type)\n",
    "```\n",
    "\n"
   ],
   "metadata": {
    "collapsed": false
   }
  }
 ],
 "metadata": {
  "@webio": {
   "lastCommId": null,
   "lastKernelId": null
  },
  "kernelspec": {
   "display_name": "Python 3",
   "language": "python",
   "name": "python3"
  },
  "language_info": {
   "codemirror_mode": {
    "name": "ipython",
    "version": 3
   },
   "file_extension": ".py",
   "mimetype": "text/x-python",
   "name": "python",
   "nbconvert_exporter": "python",
   "pygments_lexer": "ipython3",
   "version": "3.7.6"
  }
 },
 "nbformat": 4,
 "nbformat_minor": 4
}
